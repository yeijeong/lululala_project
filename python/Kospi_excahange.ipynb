{
 "cells": [
  {
   "cell_type": "code",
   "execution_count": 1,
   "metadata": {},
   "outputs": [],
   "source": [
    "import urllib.request\n",
    "from bs4 import BeautifulSoup\n",
    "from urllib import parse\n",
    "from datetime import datetime\n",
    "import datetime\n",
    "import pandas as pd\n",
    "import time\n",
    "import time\n",
    "import pymysql"
   ]
  },
  {
   "cell_type": "code",
   "execution_count": 2,
   "metadata": {},
   "outputs": [],
   "source": [
    "def to_dbeaver(DateTime, Kospi, Exchange) :\n",
    "    conn = pymysql.connect(\n",
    "        host='localhost'\n",
    "        , user='root'\n",
    "        , password='1234'\n",
    "        , db='lululala_project'\n",
    "        , charset='utf8'\n",
    "    )\n",
    "    cur = conn.cursor()\n",
    "\n",
    "    sql = \"INSERT INTO kospi_exchange VALUES ({}, {}, {})\".format(\"\\\"\"+DateTime+\"\\\"\", \"\\\"\"+Kospi+\"\\\"\", \"\\\"\"+Exchange+\"\\\"\")\n",
    "    try : \n",
    "        print(\"Insert Success\")\n",
    "        cur.execute(sql)\n",
    "    except Exception as e :\n",
    "        print('Error Message :', e)\n",
    "        return\n",
    "    conn.commit()\n",
    "    conn.close()"
   ]
  },
  {
   "cell_type": "code",
   "execution_count": 3,
   "metadata": {},
   "outputs": [],
   "source": [
    "# ConnectionError방지\n",
    "headers = {'user-agent' : 'Mozilla/5.0 (Windows NT 10.0; Win64; x64) AppleWebKit/537.36 (KHTML, like Gecko) Chrome/100.0.4896.127 Safari/537.36'}\n",
    "\n",
    "def get_kospi_obj(basic_url):\n",
    "    fp = urllib.request.urlopen(basic_url) # 3시30이 아니면 계속 실행\n",
    "    source = fp.read()\n",
    "    fp.close() \n",
    "\n",
    "    soup = BeautifulSoup(source, 'html.parser')\n",
    "\n",
    "    return soup"
   ]
  },
  {
   "cell_type": "code",
   "execution_count": 4,
   "metadata": {},
   "outputs": [
    {
     "name": "stdout",
     "output_type": "stream",
     "text": [
      "Insert Success\n"
     ]
    }
   ],
   "source": [
    "kospi_info = []\n",
    "kospi_url = \"https://finance.naver.com/sise/\" # 코스피\n",
    "soup = get_kospi_obj(kospi_url)\n",
    "soup = soup.findAll(\"span\",class_=\"num\")\n",
    "kospi_value = soup[1].string #코스피 지수\n",
    "\n",
    "#환율 실시간\n",
    "exchange_url = \"https://finance.naver.com/marketindex/\"\n",
    "soup = get_kospi_obj(exchange_url)\n",
    "soup = soup.findAll(\"span\",class_=\"value\")\n",
    "exchange = soup[0].string #미국환율 지수\n",
    "\n",
    "now = datetime.datetime.now().strftime('%Y-%m-%d %H:%M:%S')\n",
    "\n",
    "to_dbeaver(now, kospi_value, exchange)"
   ]
  },
  {
   "cell_type": "code",
   "execution_count": 6,
   "metadata": {},
   "outputs": [
    {
     "name": "stdout",
     "output_type": "stream",
     "text": [
      "Insert Success\n"
     ]
    },
    {
     "ename": "KeyboardInterrupt",
     "evalue": "",
     "output_type": "error",
     "traceback": [
      "\u001b[0;31m---------------------------------------------------------------------------\u001b[0m",
      "\u001b[0;31mKeyboardInterrupt\u001b[0m                         Traceback (most recent call last)",
      "Cell \u001b[0;32mIn[6], line 9\u001b[0m\n\u001b[1;32m      7\u001b[0m kospi_info \u001b[39m=\u001b[39m []\n\u001b[1;32m      8\u001b[0m kospi_url \u001b[39m=\u001b[39m \u001b[39m\"\u001b[39m\u001b[39mhttps://finance.naver.com/sise/\u001b[39m\u001b[39m\"\u001b[39m \u001b[39m# 코스피\u001b[39;00m\n\u001b[0;32m----> 9\u001b[0m soup \u001b[39m=\u001b[39m get_kospi_obj(kospi_url)\n\u001b[1;32m     10\u001b[0m soup \u001b[39m=\u001b[39m soup\u001b[39m.\u001b[39mfindAll(\u001b[39m\"\u001b[39m\u001b[39mspan\u001b[39m\u001b[39m\"\u001b[39m,class_\u001b[39m=\u001b[39m\u001b[39m\"\u001b[39m\u001b[39mnum\u001b[39m\u001b[39m\"\u001b[39m)\n\u001b[1;32m     11\u001b[0m kospi_value \u001b[39m=\u001b[39m soup[\u001b[39m1\u001b[39m]\u001b[39m.\u001b[39mstring \u001b[39m#코스피 지수\u001b[39;00m\n",
      "Cell \u001b[0;32mIn[3], line 6\u001b[0m, in \u001b[0;36mget_kospi_obj\u001b[0;34m(basic_url)\u001b[0m\n\u001b[1;32m      4\u001b[0m \u001b[39mdef\u001b[39;00m \u001b[39mget_kospi_obj\u001b[39m(basic_url):\n\u001b[1;32m      5\u001b[0m     fp \u001b[39m=\u001b[39m urllib\u001b[39m.\u001b[39mrequest\u001b[39m.\u001b[39murlopen(basic_url) \u001b[39m# 3시30이 아니면 계속 실행\u001b[39;00m\n\u001b[0;32m----> 6\u001b[0m     source \u001b[39m=\u001b[39m fp\u001b[39m.\u001b[39;49mread()\n\u001b[1;32m      7\u001b[0m     fp\u001b[39m.\u001b[39mclose() \n\u001b[1;32m      9\u001b[0m     soup \u001b[39m=\u001b[39m BeautifulSoup(source, \u001b[39m'\u001b[39m\u001b[39mhtml.parser\u001b[39m\u001b[39m'\u001b[39m)\n",
      "File \u001b[0;32m~/miniforge3/envs/lula/lib/python3.10/http/client.py:482\u001b[0m, in \u001b[0;36mHTTPResponse.read\u001b[0;34m(self, amt)\u001b[0m\n\u001b[1;32m    480\u001b[0m \u001b[39melse\u001b[39;00m:\n\u001b[1;32m    481\u001b[0m     \u001b[39mtry\u001b[39;00m:\n\u001b[0;32m--> 482\u001b[0m         s \u001b[39m=\u001b[39m \u001b[39mself\u001b[39;49m\u001b[39m.\u001b[39;49m_safe_read(\u001b[39mself\u001b[39;49m\u001b[39m.\u001b[39;49mlength)\n\u001b[1;32m    483\u001b[0m     \u001b[39mexcept\u001b[39;00m IncompleteRead:\n\u001b[1;32m    484\u001b[0m         \u001b[39mself\u001b[39m\u001b[39m.\u001b[39m_close_conn()\n",
      "File \u001b[0;32m~/miniforge3/envs/lula/lib/python3.10/http/client.py:631\u001b[0m, in \u001b[0;36mHTTPResponse._safe_read\u001b[0;34m(self, amt)\u001b[0m\n\u001b[1;32m    624\u001b[0m \u001b[39mdef\u001b[39;00m \u001b[39m_safe_read\u001b[39m(\u001b[39mself\u001b[39m, amt):\n\u001b[1;32m    625\u001b[0m \u001b[39m    \u001b[39m\u001b[39m\"\"\"Read the number of bytes requested.\u001b[39;00m\n\u001b[1;32m    626\u001b[0m \n\u001b[1;32m    627\u001b[0m \u001b[39m    This function should be used when <amt> bytes \"should\" be present for\u001b[39;00m\n\u001b[1;32m    628\u001b[0m \u001b[39m    reading. If the bytes are truly not available (due to EOF), then the\u001b[39;00m\n\u001b[1;32m    629\u001b[0m \u001b[39m    IncompleteRead exception can be used to detect the problem.\u001b[39;00m\n\u001b[1;32m    630\u001b[0m \u001b[39m    \"\"\"\u001b[39;00m\n\u001b[0;32m--> 631\u001b[0m     data \u001b[39m=\u001b[39m \u001b[39mself\u001b[39;49m\u001b[39m.\u001b[39;49mfp\u001b[39m.\u001b[39;49mread(amt)\n\u001b[1;32m    632\u001b[0m     \u001b[39mif\u001b[39;00m \u001b[39mlen\u001b[39m(data) \u001b[39m<\u001b[39m amt:\n\u001b[1;32m    633\u001b[0m         \u001b[39mraise\u001b[39;00m IncompleteRead(data, amt\u001b[39m-\u001b[39m\u001b[39mlen\u001b[39m(data))\n",
      "File \u001b[0;32m~/miniforge3/envs/lula/lib/python3.10/socket.py:705\u001b[0m, in \u001b[0;36mSocketIO.readinto\u001b[0;34m(self, b)\u001b[0m\n\u001b[1;32m    703\u001b[0m \u001b[39mwhile\u001b[39;00m \u001b[39mTrue\u001b[39;00m:\n\u001b[1;32m    704\u001b[0m     \u001b[39mtry\u001b[39;00m:\n\u001b[0;32m--> 705\u001b[0m         \u001b[39mreturn\u001b[39;00m \u001b[39mself\u001b[39;49m\u001b[39m.\u001b[39;49m_sock\u001b[39m.\u001b[39;49mrecv_into(b)\n\u001b[1;32m    706\u001b[0m     \u001b[39mexcept\u001b[39;00m timeout:\n\u001b[1;32m    707\u001b[0m         \u001b[39mself\u001b[39m\u001b[39m.\u001b[39m_timeout_occurred \u001b[39m=\u001b[39m \u001b[39mTrue\u001b[39;00m\n",
      "File \u001b[0;32m~/miniforge3/envs/lula/lib/python3.10/ssl.py:1274\u001b[0m, in \u001b[0;36mSSLSocket.recv_into\u001b[0;34m(self, buffer, nbytes, flags)\u001b[0m\n\u001b[1;32m   1270\u001b[0m     \u001b[39mif\u001b[39;00m flags \u001b[39m!=\u001b[39m \u001b[39m0\u001b[39m:\n\u001b[1;32m   1271\u001b[0m         \u001b[39mraise\u001b[39;00m \u001b[39mValueError\u001b[39;00m(\n\u001b[1;32m   1272\u001b[0m           \u001b[39m\"\u001b[39m\u001b[39mnon-zero flags not allowed in calls to recv_into() on \u001b[39m\u001b[39m%s\u001b[39;00m\u001b[39m\"\u001b[39m \u001b[39m%\u001b[39m\n\u001b[1;32m   1273\u001b[0m           \u001b[39mself\u001b[39m\u001b[39m.\u001b[39m\u001b[39m__class__\u001b[39m)\n\u001b[0;32m-> 1274\u001b[0m     \u001b[39mreturn\u001b[39;00m \u001b[39mself\u001b[39;49m\u001b[39m.\u001b[39;49mread(nbytes, buffer)\n\u001b[1;32m   1275\u001b[0m \u001b[39melse\u001b[39;00m:\n\u001b[1;32m   1276\u001b[0m     \u001b[39mreturn\u001b[39;00m \u001b[39msuper\u001b[39m()\u001b[39m.\u001b[39mrecv_into(buffer, nbytes, flags)\n",
      "File \u001b[0;32m~/miniforge3/envs/lula/lib/python3.10/ssl.py:1130\u001b[0m, in \u001b[0;36mSSLSocket.read\u001b[0;34m(self, len, buffer)\u001b[0m\n\u001b[1;32m   1128\u001b[0m \u001b[39mtry\u001b[39;00m:\n\u001b[1;32m   1129\u001b[0m     \u001b[39mif\u001b[39;00m buffer \u001b[39mis\u001b[39;00m \u001b[39mnot\u001b[39;00m \u001b[39mNone\u001b[39;00m:\n\u001b[0;32m-> 1130\u001b[0m         \u001b[39mreturn\u001b[39;00m \u001b[39mself\u001b[39;49m\u001b[39m.\u001b[39;49m_sslobj\u001b[39m.\u001b[39;49mread(\u001b[39mlen\u001b[39;49m, buffer)\n\u001b[1;32m   1131\u001b[0m     \u001b[39melse\u001b[39;00m:\n\u001b[1;32m   1132\u001b[0m         \u001b[39mreturn\u001b[39;00m \u001b[39mself\u001b[39m\u001b[39m.\u001b[39m_sslobj\u001b[39m.\u001b[39mread(\u001b[39mlen\u001b[39m)\n",
      "\u001b[0;31mKeyboardInterrupt\u001b[0m: "
     ]
    }
   ],
   "source": [
    "stoptime = datetime.datetime.now().time()\n",
    "\n",
    "while True:\n",
    "    if stoptime.strftime('%p') == 'PM' and stoptime.hour == 3 and stoptime.minute >= 30: # 오후 3시 반 이후인지 확인\n",
    "        break # 3시 30에 멈추는 코드\n",
    "    else:\n",
    "        kospi_info = []\n",
    "        kospi_url = \"https://finance.naver.com/sise/\" # 코스피\n",
    "        soup = get_kospi_obj(kospi_url)\n",
    "        soup = soup.findAll(\"span\",class_=\"num\")\n",
    "        kospi_value = soup[1].string #코스피 지수\n",
    "\n",
    "        #환율 실시간\n",
    "        exchange_url = \"https://finance.naver.com/marketindex/\"\n",
    "        soup = get_kospi_obj(exchange_url)\n",
    "        soup = soup.findAll(\"span\",class_=\"value\")\n",
    "        exchange = soup[0].string #미국환율 지수\n",
    "\n",
    "        now = datetime.datetime.now().strftime('%Y-%m-%d %H:%M:%S')\n",
    "\n",
    "        to_dbeaver(now, kospi_value, exchange)\n",
    "\n",
    "        time.sleep(10)"
   ]
  }
 ],
 "metadata": {
  "kernelspec": {
   "display_name": "trading_32",
   "language": "python",
   "name": "python3"
  },
  "language_info": {
   "codemirror_mode": {
    "name": "ipython",
    "version": 3
   },
   "file_extension": ".py",
   "mimetype": "text/x-python",
   "name": "python",
   "nbconvert_exporter": "python",
   "pygments_lexer": "ipython3",
   "version": "3.10.12"
  },
  "orig_nbformat": 4
 },
 "nbformat": 4,
 "nbformat_minor": 2
}
